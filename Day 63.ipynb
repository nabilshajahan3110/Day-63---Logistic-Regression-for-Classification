{
 "cells": [
  {
   "cell_type": "markdown",
   "id": "14b3b503-d5dd-4be8-b4ee-c0c4b04310f8",
   "metadata": {},
   "source": [
    "## Logistic Regression For Classifications\n",
    "\n",
    "### Objective:\n",
    "In this assignment, you will implement logistic regression to classify a dataset. You will:\n",
    "1. Load and preprocess data.\n",
    "2. Train a logistic regression model.\n",
    "3. Evaluate the model's performance.\n",
    "4. Visualize the results."
   ]
  },
  {
   "cell_type": "code",
   "execution_count": 12,
   "id": "98121ec2-5356-4d66-a80a-2b0080aefeb4",
   "metadata": {},
   "outputs": [],
   "source": [
    "import warnings\n",
    "import sys\n",
    "if not sys.warnoptions:\n",
    "    warnings.simplefilter(\"ignore\")"
   ]
  },
  {
   "cell_type": "markdown",
   "id": "3f160c90-c259-4b09-a5b0-ed9d46760dab",
   "metadata": {},
   "source": [
    "### Step 1: Import Libraries"
   ]
  },
  {
   "cell_type": "code",
   "execution_count": 14,
   "id": "9e12d4ac-0e97-473e-b3a1-30c81f919519",
   "metadata": {},
   "outputs": [],
   "source": [
    "import numpy as np\n",
    "import pandas as pd\n",
    "import matplotlib.pyplot as plt\n",
    "from sklearn.model_selection import train_test_split\n",
    "from sklearn.linear_model import LogisticRegression\n",
    "from sklearn.metrics import accuracy_score, confusion_matrix, classification_report, RocCurveDisplay"
   ]
  },
  {
   "cell_type": "markdown",
   "id": "fe011b5b-cd77-4714-8b28-ba917eed242b",
   "metadata": {},
   "source": [
    "### Step 2: Load Dataset"
   ]
  },
  {
   "cell_type": "code",
   "execution_count": 15,
   "id": "6e056f3a-904b-4223-8631-bcc3d11c5da6",
   "metadata": {},
   "outputs": [
    {
     "name": "stdout",
     "output_type": "stream",
     "text": [
      "Features:\n",
      " [[5.1 3.5 1.4 0.2]\n",
      " [4.9 3.  1.4 0.2]\n",
      " [4.7 3.2 1.3 0.2]\n",
      " [4.6 3.1 1.5 0.2]\n",
      " [5.  3.6 1.4 0.2]]\n",
      "Labels:\n",
      " [0 0 0 0 0]\n"
     ]
    }
   ],
   "source": [
    "from sklearn.datasets import load_iris\n",
    "\n",
    "# Load the dataset\n",
    "data = load_iris()\n",
    "X = data.data[data.target != 2]  # Use only class 0 and class 1\n",
    "y = data.target[data.target != 2]\n",
    "\n",
    "# Display the first few rows of data\n",
    "print(\"Features:\\n\", X[:5])\n",
    "print(\"Labels:\\n\", y[:5])"
   ]
  },
  {
   "cell_type": "markdown",
   "id": "cb13cfcf-b016-4689-aed1-e04783558201",
   "metadata": {},
   "source": [
    "### Step 3: Split Data into Training and Testing Sets"
   ]
  },
  {
   "cell_type": "code",
   "execution_count": 18,
   "id": "9be9780c-b958-4c89-b533-e3519f50091c",
   "metadata": {},
   "outputs": [
    {
     "name": "stdout",
     "output_type": "stream",
     "text": [
      "Training data shape: (70, 4)\n",
      "Testing data shape: (30, 4)\n"
     ]
    }
   ],
   "source": [
    "# Split the data into training and testing sets\n",
    "X_train, X_test, y_train, y_test = train_test_split(X, y, test_size=0.3, random_state=42)\n",
    "\n",
    "print(\"Training data shape:\", X_train.shape)\n",
    "print(\"Testing data shape:\", X_test.shape)"
   ]
  },
  {
   "cell_type": "markdown",
   "id": "b3ffe4d2-dead-4e5c-a14a-b9bcf2f7d7e5",
   "metadata": {},
   "source": [
    "### Step 4: Train Logistic Regression Model"
   ]
  },
  {
   "cell_type": "code",
   "execution_count": 20,
   "id": "93ab1316-4893-4b2a-a82c-d4db97013203",
   "metadata": {},
   "outputs": [
    {
     "name": "stdout",
     "output_type": "stream",
     "text": [
      "Model Coefficients: [[ 0.44975352 -0.81943865  2.15275297  0.90757282]]\n",
      "Intercept: [-6.33875304]\n"
     ]
    }
   ],
   "source": [
    "# Initialize the logistic regression model\n",
    "model = LogisticRegression()\n",
    "\n",
    "# Train the model\n",
    "model.fit(X_train, y_train)\n",
    "\n",
    "# Display the coefficients of the model\n",
    "print(\"Model Coefficients:\", model.coef_)\n",
    "print(\"Intercept:\", model.intercept_)"
   ]
  },
  {
   "cell_type": "markdown",
   "id": "55f1489d-b2b5-41e6-8146-8420235c5e91",
   "metadata": {},
   "source": [
    "### Step 5: Make Predictions"
   ]
  },
  {
   "cell_type": "code",
   "execution_count": 22,
   "id": "259e79b0-3b1e-4d7d-b45b-554988065e02",
   "metadata": {},
   "outputs": [
    {
     "name": "stdout",
     "output_type": "stream",
     "text": [
      "Predicted Classes:\n",
      " [1 1 1 0 0 0 0 1 0 0 0 0 1 0 1 0 1 1 0 0 1 1 0 0 1 0 0 1 0 1]\n",
      "Predicted Probabilities:\n",
      " [[0.00138809 0.99861191]\n",
      " [0.01727551 0.98272449]\n",
      " [0.00347239 0.99652761]\n",
      " [0.96617439 0.03382561]\n",
      " [0.93735729 0.06264271]]\n"
     ]
    }
   ],
   "source": [
    "# Predict the class labels on the test set\n",
    "y_pred = model.predict(X_test)\n",
    "\n",
    "# Predict probabilities for each class\n",
    "y_prob = model.predict_proba(X_test)\n",
    "\n",
    "print(\"Predicted Classes:\\n\", y_pred)\n",
    "print(\"Predicted Probabilities:\\n\", y_prob[:5])"
   ]
  },
  {
   "cell_type": "markdown",
   "id": "95161f52-8a63-43e7-8e62-963b748865bf",
   "metadata": {},
   "source": [
    "### Step 6: Evaluate the Model"
   ]
  },
  {
   "cell_type": "code",
   "execution_count": 24,
   "id": "f99c5aab-b369-4fb4-8b7b-8bd7a0394e95",
   "metadata": {},
   "outputs": [
    {
     "name": "stdout",
     "output_type": "stream",
     "text": [
      "Accuracy: 1.0\n",
      "Confusion Matrix:\n",
      " [[17  0]\n",
      " [ 0 13]]\n",
      "Classification Report:\n",
      "               precision    recall  f1-score   support\n",
      "\n",
      "           0       1.00      1.00      1.00        17\n",
      "           1       1.00      1.00      1.00        13\n",
      "\n",
      "    accuracy                           1.00        30\n",
      "   macro avg       1.00      1.00      1.00        30\n",
      "weighted avg       1.00      1.00      1.00        30\n",
      "\n"
     ]
    }
   ],
   "source": [
    "# Evaluate the accuracy\n",
    "accuracy = accuracy_score(y_test, y_pred)\n",
    "print(\"Accuracy:\", accuracy)\n",
    "\n",
    "# Confusion matrix\n",
    "conf_matrix = confusion_matrix(y_test, y_pred)\n",
    "print(\"Confusion Matrix:\\n\", conf_matrix)\n",
    "\n",
    "# Classification report\n",
    "class_report = classification_report(y_test, y_pred)\n",
    "print(\"Classification Report:\\n\", class_report)"
   ]
  },
  {
   "cell_type": "markdown",
   "id": "72f7cfff-a039-423f-b05f-908740cfeb17",
   "metadata": {},
   "source": [
    "### Step 7: Visualize the Results"
   ]
  },
  {
   "cell_type": "markdown",
   "id": "839ece75-188e-4429-a632-ee0c08e5967d",
   "metadata": {},
   "source": [
    "#### 1. Confusion Matrix"
   ]
  },
  {
   "cell_type": "code",
   "execution_count": 26,
   "id": "6fb1fb89-61d2-47a6-8d86-f941bebfa2ca",
   "metadata": {},
   "outputs": [
    {
     "data": {
      "image/png": "[encoded data removed]",
      "text/plain": [
       "<Figure size 600x400 with 2 Axes>"
      ]
     },
     "metadata": {},
     "output_type": "display_data"
    }
   ],
   "source": [
    "import seaborn as sns\n",
    "\n",
    "plt.figure(figsize=(6, 4))\n",
    "sns.heatmap(conf_matrix, annot=True, fmt='d', cmap='Blues', xticklabels=data.target_names[:2], yticklabels=data.target_names[:2])\n",
    "plt.xlabel(\"Predicted Label\")\n",
    "plt.ylabel(\"True Label\")\n",
    "plt.title(\"Confusion Matrix\")\n",
    "plt.show()"
   ]
  },
  {
   "cell_type": "markdown",
   "id": "0ccd073a-faa6-4c63-a1a5-de82f8ff0daf",
   "metadata": {},
   "source": [
    "#### 2. ROC Curve"
   ]
  },
  {
   "cell_type": "code",
   "execution_count": 28,
   "id": "66f758db-1a01-492b-a18c-6e660a85cfc4",
   "metadata": {},
   "outputs": [
    {
     "data": {
      "image/png": "[encoded data removed]",
      "text/plain": [
       "<Figure size 640x480 with 1 Axes>"
      ]
     },
     "metadata": {},
     "output_type": "display_data"
    }
   ],
   "source": [
    "# Plot ROC curve\n",
    "RocCurveDisplay.from_estimator(model, X_test, y_test)\n",
    "plt.title(\"ROC Curve\")\n",
    "plt.show()"
   ]
  }
 ],
 "metadata": {
  "kernelspec": {
   "display_name": "Python 3 (ipykernel)",
   "language": "python",
   "name": "python3"
  },
  "language_info": {
   "codemirror_mode": {
    "name": "ipython",
    "version": 3
   },
   "file_extension": ".py",
   "mimetype": "text/x-python",
   "name": "python",
   "nbconvert_exporter": "python",
   "pygments_lexer": "ipython3",
   "version": "3.12.4"
  }
 },
 "nbformat": 4,
 "nbformat_minor": 5
}
